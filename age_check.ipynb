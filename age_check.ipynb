{
 "cells": [
  {
   "cell_type": "code",
   "execution_count": null,
   "id": "0e37e0e5-2ade-46a6-af7b-7f29f5319703",
   "metadata": {},
   "outputs": [],
   "source": [
    "age=int(input(\"enetr your age:\"))\n",
    "if age >= 10:\n",
    "    if age <= 20:\n",
    "        print(\" your age is between 10 and 20 years\")\n",
    "    else:\n",
    "        print( \" your age is greater than 20 years \")\n",
    "else: \n",
    "    print(\"your age is less than 20 years \")"
   ]
  },
  {
   "cell_type": "code",
   "execution_count": null,
   "id": "aada185c-97f5-4325-80c5-f27240613418",
   "metadata": {},
   "outputs": [],
   "source": []
  }
 ],
 "metadata": {
  "kernelspec": {
   "display_name": "Python 3 (ipykernel)",
   "language": "python",
   "name": "python3"
  },
  "language_info": {
   "codemirror_mode": {
    "name": "ipython",
    "version": 3
   },
   "file_extension": ".py",
   "mimetype": "text/x-python",
   "name": "python",
   "nbconvert_exporter": "python",
   "pygments_lexer": "ipython3",
   "version": "3.13.5"
  }
 },
 "nbformat": 4,
 "nbformat_minor": 5
}
