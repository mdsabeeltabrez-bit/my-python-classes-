{
 "cells": [
  {
   "cell_type": "code",
   "execution_count": 1,
   "id": "02d59e2c-24b1-4681-9053-80a378fa38ba",
   "metadata": {},
   "outputs": [
    {
     "name": "stdin",
     "output_type": "stream",
     "text": [
      "enter security code: 540\n",
      "enter your height 6'1\n"
     ]
    },
    {
     "name": "stdout",
     "output_type": "stream",
     "text": [
      "access allowed\n"
     ]
    }
   ],
   "source": [
    "number=int(input(\"enter security code:\"))\n",
    "height=(input(\"enter your height\"))\n",
    "\n",
    "if number==540 and height==\"6'1\":\n",
    "    print(\"access allowed\")\n",
    "\n",
    "else:\n",
    "    print(\"access denied\")"
   ]
  },
  {
   "cell_type": "code",
   "execution_count": null,
   "id": "4b2ceada-0f50-4590-8a3b-79e493f29225",
   "metadata": {},
   "outputs": [],
   "source": []
  }
 ],
 "metadata": {
  "kernelspec": {
   "display_name": "Python 3 (ipykernel)",
   "language": "python",
   "name": "python3"
  },
  "language_info": {
   "codemirror_mode": {
    "name": "ipython",
    "version": 3
   },
   "file_extension": ".py",
   "mimetype": "text/x-python",
   "name": "python",
   "nbconvert_exporter": "python",
   "pygments_lexer": "ipython3",
   "version": "3.13.5"
  }
 },
 "nbformat": 4,
 "nbformat_minor": 5
}
