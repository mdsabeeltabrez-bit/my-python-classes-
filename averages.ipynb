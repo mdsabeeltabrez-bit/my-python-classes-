{
 "cells": [
  {
   "cell_type": "code",
   "execution_count": 1,
   "id": "a0df9a0d-8b0a-49f0-8e50-4f4d952c6422",
   "metadata": {},
   "outputs": [
    {
     "name": "stdin",
     "output_type": "stream",
     "text": [
      "enter economics marks:  55\n",
      "enter accounting marks:  80\n",
      "enter business marks:  70\n",
      "enter em marks:  50\n"
     ]
    },
    {
     "name": "stdout",
     "output_type": "stream",
     "text": [
      "63.75\n"
     ]
    }
   ],
   "source": [
    "eco=int(input(\"enter economics marks: \"))\n",
    "acc=int(input(\"enter accounting marks: \"))\n",
    "business=int(input(\"enter business marks: \"))\n",
    "em=int(input(\"enter em marks: \"))\n",
    "\n",
    "average=(eco+acc+business+em)/4\n",
    "print( average)"
   ]
  },
  {
   "cell_type": "code",
   "execution_count": null,
   "id": "7cddc610-9db6-4e69-95e0-14231685e97d",
   "metadata": {},
   "outputs": [],
   "source": []
  }
 ],
 "metadata": {
  "kernelspec": {
   "display_name": "Python 3 (ipykernel)",
   "language": "python",
   "name": "python3"
  },
  "language_info": {
   "codemirror_mode": {
    "name": "ipython",
    "version": 3
   },
   "file_extension": ".py",
   "mimetype": "text/x-python",
   "name": "python",
   "nbconvert_exporter": "python",
   "pygments_lexer": "ipython3",
   "version": "3.13.5"
  }
 },
 "nbformat": 4,
 "nbformat_minor": 5
}
