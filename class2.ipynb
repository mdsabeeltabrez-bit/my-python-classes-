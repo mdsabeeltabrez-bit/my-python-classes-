{
 "cells": [
  {
   "cell_type": "code",
   "execution_count": 1,
   "id": "60d8d1de-fc13-46d1-89a0-1dbc84bd20ee",
   "metadata": {},
   "outputs": [
    {
     "name": "stdout",
     "output_type": "stream",
     "text": [
      " my name is   sabeel \n",
      " iam  16  years old\n"
     ]
    }
   ],
   "source": [
    "name= \" sabeel \"\n",
    "age=16\n",
    "print(\" my name is \", name )\n",
    "print(\" iam \",age ,\" years old\" )\n",
    "      "
   ]
  },
  {
   "cell_type": "code",
   "execution_count": 2,
   "id": "6b992f72-ee66-49da-8c4b-1376bec7512c",
   "metadata": {},
   "outputs": [
    {
     "name": "stdout",
     "output_type": "stream",
     "text": [
      " sabeel   tabrez\n"
     ]
    }
   ],
   "source": [
    "first_name= \" sabeel\"\n",
    "last_name= \" tabrez\"\n",
    "print(first_name,\" \"+last_name)\n"
   ]
  },
  {
   "cell_type": "code",
   "execution_count": 3,
   "id": "a73f4355-1cbf-4695-883d-1a4bf97f392a",
   "metadata": {},
   "outputs": [
    {
     "name": "stdout",
     "output_type": "stream",
     "text": [
      "['False', 'None', 'True', 'and', 'as', 'assert', 'async', 'await', 'break', 'class', 'continue', 'def', 'del', 'elif', 'else', 'except', 'finally', 'for', 'from', 'global', 'if', 'import', 'in', 'is', 'lambda', 'nonlocal', 'not', 'or', 'pass', 'raise', 'return', 'try', 'while', 'with', 'yield']\n"
     ]
    }
   ],
   "source": [
    "import keyword\n",
    "print(keyword.kwlist)"
   ]
  },
  {
   "cell_type": "code",
   "execution_count": null,
   "id": "2a05064b-02b5-4772-8fb4-175ef63cdd3b",
   "metadata": {},
   "outputs": [],
   "source": []
  }
 ],
 "metadata": {
  "kernelspec": {
   "display_name": "Python 3 (ipykernel)",
   "language": "python",
   "name": "python3"
  },
  "language_info": {
   "codemirror_mode": {
    "name": "ipython",
    "version": 3
   },
   "file_extension": ".py",
   "mimetype": "text/x-python",
   "name": "python",
   "nbconvert_exporter": "python",
   "pygments_lexer": "ipython3",
   "version": "3.13.5"
  }
 },
 "nbformat": 4,
 "nbformat_minor": 5
}
