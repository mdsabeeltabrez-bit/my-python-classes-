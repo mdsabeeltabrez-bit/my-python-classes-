{
 "cells": [
  {
   "cell_type": "code",
   "execution_count": null,
   "id": "5f9240eb-5671-464e-9718-57c32824307d",
   "metadata": {},
   "outputs": [],
   "source": [
    "character=input(\"enter a character:\")\n",
    "if character is alphabet:\n",
    "    print(\" the character is an alphabet\")\n",
    "else:\n",
    "    print(\"the character is not an alphabet\")"
   ]
  },
  {
   "cell_type": "code",
   "execution_count": null,
   "id": "dbd05112-859c-4c2f-9d8f-6bd478fa9395",
   "metadata": {},
   "outputs": [],
   "source": []
  }
 ],
 "metadata": {
  "kernelspec": {
   "display_name": "Python 3 (ipykernel)",
   "language": "python",
   "name": "python3"
  },
  "language_info": {
   "codemirror_mode": {
    "name": "ipython",
    "version": 3
   },
   "file_extension": ".py",
   "mimetype": "text/x-python",
   "name": "python",
   "nbconvert_exporter": "python",
   "pygments_lexer": "ipython3",
   "version": "3.13.5"
  }
 },
 "nbformat": 4,
 "nbformat_minor": 5
}
