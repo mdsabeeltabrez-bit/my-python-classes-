{
 "cells": [
  {
   "cell_type": "code",
   "execution_count": 4,
   "id": "653fddf2-6b28-42e2-9fec-eeba808d11d2",
   "metadata": {},
   "outputs": [
    {
     "name": "stdin",
     "output_type": "stream",
     "text": [
      "enter the number: 10\n",
      "enter the number: 3\n"
     ]
    },
    {
     "name": "stdout",
     "output_type": "stream",
     "text": [
      "num1 is not completely divisible\n"
     ]
    }
   ],
   "source": [
    "num1=int(input(\"enter the number:\"))\n",
    "num2=int(input(\"enter the number:\"))\n",
    "remainder=num1%num2\n",
    "if remainder==0:\n",
    "    print(num1,\" is completely divisible by\",num2)\n",
    "\n",
    "else:\n",
    "    print(\"num1 is not completely divisible\")\n",
    "\n"
   ]
  },
  {
   "cell_type": "code",
   "execution_count": null,
   "id": "681443ba-40ca-4748-9d87-69b097fde280",
   "metadata": {},
   "outputs": [],
   "source": []
  }
 ],
 "metadata": {
  "kernelspec": {
   "display_name": "Python 3 (ipykernel)",
   "language": "python",
   "name": "python3"
  },
  "language_info": {
   "codemirror_mode": {
    "name": "ipython",
    "version": 3
   },
   "file_extension": ".py",
   "mimetype": "text/x-python",
   "name": "python",
   "nbconvert_exporter": "python",
   "pygments_lexer": "ipython3",
   "version": "3.13.5"
  }
 },
 "nbformat": 4,
 "nbformat_minor": 5
}
