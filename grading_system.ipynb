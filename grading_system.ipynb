{
 "cells": [
  {
   "cell_type": "code",
   "execution_count": 8,
   "id": "4f1be4dd-4f81-4e7d-9f80-6ed1eb01c6d0",
   "metadata": {},
   "outputs": [
    {
     "ename": "SyntaxError",
     "evalue": "expected ':' (2383558596.py, line 20)",
     "output_type": "error",
     "traceback": [
      "\u001b[1;36m  Cell \u001b[1;32mIn[8], line 20\u001b[1;36m\u001b[0m\n\u001b[1;33m    elif marks<0 or marks>100\u001b[0m\n\u001b[1;37m                             ^\u001b[0m\n\u001b[1;31mSyntaxError\u001b[0m\u001b[1;31m:\u001b[0m expected ':'\n"
     ]
    }
   ],
   "source": [
    "marks=int(input(\"enter your marks:\"))\n",
    "if marks>=90:\n",
    "    print(\" A+\")\n",
    "\n",
    "elif marks>=80 and marks<90:\n",
    "    print(\"A\")\n",
    "\n",
    "elif marks>=70 and marks<80:\n",
    "    print(\"B\")\n",
    "\n",
    "elif marks>=60 and marks<70:\n",
    "    print(\"c\")\n",
    "\n",
    "elif marks>=50 and marks <60:\n",
    "    print (\"D\")\n",
    "\n",
    "elif marks>=40 and marks<50:\n",
    "    print( \"E\")\n",
    "\n",
    "elif marks<0 or marks>100:\n",
    "    print (\"invalid marks\")\n",
    "    \n"
   ]
  },
  {
   "cell_type": "code",
   "execution_count": null,
   "id": "856668f1-e318-479c-874f-375a331a23aa",
   "metadata": {},
   "outputs": [],
   "source": []
  }
 ],
 "metadata": {
  "kernelspec": {
   "display_name": "Python 3 (ipykernel)",
   "language": "python",
   "name": "python3"
  },
  "language_info": {
   "codemirror_mode": {
    "name": "ipython",
    "version": 3
   },
   "file_extension": ".py",
   "mimetype": "text/x-python",
   "name": "python",
   "nbconvert_exporter": "python",
   "pygments_lexer": "ipython3",
   "version": "3.13.5"
  }
 },
 "nbformat": 4,
 "nbformat_minor": 5
}
