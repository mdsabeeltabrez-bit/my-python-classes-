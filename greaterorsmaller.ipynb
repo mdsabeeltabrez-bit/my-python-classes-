{
 "cells": [
  {
   "cell_type": "code",
   "execution_count": null,
   "id": "32c6ca95-b783-4dbc-93e4-6f5f62f11cc7",
   "metadata": {},
   "outputs": [],
   "source": [
    "A= int(input(\"enter number 1: \"))\n",
    "B= int(input(\"enter number 2: \"))\n",
    "\n",
    "if(A>B):\n",
    "    print(\" number 1 is greater than number 2\")\n",
    "\n",
    "else:\n",
    "    print(\"number number 2 is greater than number 1\")\n"
   ]
  },
  {
   "cell_type": "code",
   "execution_count": null,
   "id": "0c37550f-688c-4ae9-85ab-22ee08fc4d07",
   "metadata": {},
   "outputs": [],
   "source": []
  }
 ],
 "metadata": {
  "kernelspec": {
   "display_name": "Python 3 (ipykernel)",
   "language": "python",
   "name": "python3"
  },
  "language_info": {
   "codemirror_mode": {
    "name": "ipython",
    "version": 3
   },
   "file_extension": ".py",
   "mimetype": "text/x-python",
   "name": "python",
   "nbconvert_exporter": "python",
   "pygments_lexer": "ipython3",
   "version": "3.13.5"
  }
 },
 "nbformat": 4,
 "nbformat_minor": 5
}
