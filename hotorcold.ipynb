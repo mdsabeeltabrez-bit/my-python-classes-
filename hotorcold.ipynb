{
 "cells": [
  {
   "cell_type": "code",
   "execution_count": 9,
   "id": "4dbc9cb5-203f-4b18-8839-5cc185a99a11",
   "metadata": {},
   "outputs": [
    {
     "name": "stdin",
     "output_type": "stream",
     "text": [
      "enter the temperature: 19\n"
     ]
    },
    {
     "name": "stdout",
     "output_type": "stream",
     "text": [
      "the weather is cold today you should wear a jacket \n"
     ]
    }
   ],
   "source": [
    "temperature= int(input(\"enter the temperature:\"))\n",
    "\n",
    "if temperature>20:\n",
    "    print(\" the weather is warm today you should wear light clothes \")\n",
    "else:\n",
    "    print(\"the weather is cold today you should wear a jacket \")\n"
   ]
  },
  {
   "cell_type": "code",
   "execution_count": null,
   "id": "d5f1979b-12b3-49ee-83ba-7879c33b46b8",
   "metadata": {},
   "outputs": [],
   "source": []
  }
 ],
 "metadata": {
  "kernelspec": {
   "display_name": "Python 3 (ipykernel)",
   "language": "python",
   "name": "python3"
  },
  "language_info": {
   "codemirror_mode": {
    "name": "ipython",
    "version": 3
   },
   "file_extension": ".py",
   "mimetype": "text/x-python",
   "name": "python",
   "nbconvert_exporter": "python",
   "pygments_lexer": "ipython3",
   "version": "3.13.5"
  }
 },
 "nbformat": 4,
 "nbformat_minor": 5
}
