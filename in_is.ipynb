{
 "cells": [
  {
   "cell_type": "code",
   "execution_count": 6,
   "id": "79a7d280-f756-4649-90b6-143ff0be780d",
   "metadata": {},
   "outputs": [
    {
     "name": "stdout",
     "output_type": "stream",
     "text": [
      "False\n",
      "92 isnt there\n"
     ]
    }
   ],
   "source": [
    "list1=[21,22,45,67,5,32,69,98]\n",
    "\n",
    "print(92 in list1)\n",
    "if 92 in list1:\n",
    "    print(\"92 is present\")\n",
    "\n",
    "else:\n",
    "    print(\"92 isnt there\")\n",
    "    \n",
    "\n"
   ]
  },
  {
   "cell_type": "code",
   "execution_count": null,
   "id": "4e536b8d-0018-4034-937f-2b99b4605443",
   "metadata": {},
   "outputs": [],
   "source": []
  }
 ],
 "metadata": {
  "kernelspec": {
   "display_name": "Python 3 (ipykernel)",
   "language": "python",
   "name": "python3"
  },
  "language_info": {
   "codemirror_mode": {
    "name": "ipython",
    "version": 3
   },
   "file_extension": ".py",
   "mimetype": "text/x-python",
   "name": "python",
   "nbconvert_exporter": "python",
   "pygments_lexer": "ipython3",
   "version": "3.13.5"
  }
 },
 "nbformat": 4,
 "nbformat_minor": 5
}
