{
 "cells": [
  {
   "cell_type": "code",
   "execution_count": 4,
   "id": "74080d0b-91b8-4df9-a349-c0cdbd872558",
   "metadata": {},
   "outputs": [
    {
     "name": "stdin",
     "output_type": "stream",
     "text": [
      " enter anything yrgeqey\n"
     ]
    },
    {
     "name": "stdout",
     "output_type": "stream",
     "text": [
      "loop not ended \n"
     ]
    },
    {
     "name": "stdin",
     "output_type": "stream",
     "text": [
      " enter anything hdgg\n"
     ]
    },
    {
     "name": "stdout",
     "output_type": "stream",
     "text": [
      "loop not ended \n"
     ]
    },
    {
     "name": "stdin",
     "output_type": "stream",
     "text": [
      " enter anything exit\n"
     ]
    },
    {
     "name": "stdout",
     "output_type": "stream",
     "text": [
      "loop ended\n"
     ]
    }
   ],
   "source": [
    "user_input=input(\" enter anything\")\n",
    "while user_input!=\"exit\":\n",
    "    print(\"loop not ended \")\n",
    "    user_input=input(\" enter anything\")\n",
    "\n",
    "print(\"loop ended\")\n",
    "\n",
    "\n"
   ]
  },
  {
   "cell_type": "code",
   "execution_count": null,
   "id": "ac793301-102c-41b5-bce7-9d007e157e36",
   "metadata": {},
   "outputs": [],
   "source": []
  }
 ],
 "metadata": {
  "kernelspec": {
   "display_name": "Python 3 (ipykernel)",
   "language": "python",
   "name": "python3"
  },
  "language_info": {
   "codemirror_mode": {
    "name": "ipython",
    "version": 3
   },
   "file_extension": ".py",
   "mimetype": "text/x-python",
   "name": "python",
   "nbconvert_exporter": "python",
   "pygments_lexer": "ipython3",
   "version": "3.13.5"
  }
 },
 "nbformat": 4,
 "nbformat_minor": 5
}
