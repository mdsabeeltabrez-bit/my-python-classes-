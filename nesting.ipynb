{
 "cells": [
  {
   "cell_type": "code",
   "execution_count": 6,
   "id": "fdc8f56f-9e3c-447d-afa3-b8098196a622",
   "metadata": {},
   "outputs": [
    {
     "name": "stdin",
     "output_type": "stream",
     "text": [
      "enter marks: -90\n"
     ]
    },
    {
     "name": "stdout",
     "output_type": "stream",
     "text": [
      "the marks are invalid\n"
     ]
    }
   ],
   "source": [
    "marks=int(input(\"enter marks:\"))\n",
    "if marks>=0 and marks<=100:\n",
    "    print(\"the marks are valid\")\n",
    "    if marks>=80:\n",
    "        print(\"Grade A \")\n",
    "    elif marks>=70:\n",
    "        print(\"Grade B \")\n",
    "    elif marks>=60:\n",
    "        print(\"Grade C\")\n",
    "    elif marks>=50:\n",
    "        print(\"Grade D\")\n",
    "    else:\n",
    "        print(\"fail\")\n",
    "else:\n",
    "    print(\"the marks are invalid\")\n",
    "    \n",
    "    \n",
    "    \n",
    "        \n",
    "    \n"
   ]
  },
  {
   "cell_type": "code",
   "execution_count": null,
   "id": "64512fda-d812-4c46-ba71-15aaf805de10",
   "metadata": {},
   "outputs": [],
   "source": []
  }
 ],
 "metadata": {
  "kernelspec": {
   "display_name": "Python 3 (ipykernel)",
   "language": "python",
   "name": "python3"
  },
  "language_info": {
   "codemirror_mode": {
    "name": "ipython",
    "version": 3
   },
   "file_extension": ".py",
   "mimetype": "text/x-python",
   "name": "python",
   "nbconvert_exporter": "python",
   "pygments_lexer": "ipython3",
   "version": "3.13.5"
  }
 },
 "nbformat": 4,
 "nbformat_minor": 5
}
