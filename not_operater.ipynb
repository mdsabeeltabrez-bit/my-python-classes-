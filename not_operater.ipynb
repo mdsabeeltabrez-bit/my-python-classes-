{
 "cells": [
  {
   "cell_type": "code",
   "execution_count": 2,
   "id": "16ce7fae-4b9f-4f30-811a-9a8a060c8865",
   "metadata": {},
   "outputs": [
    {
     "name": "stdin",
     "output_type": "stream",
     "text": [
      "enter number1: 25\n",
      "enter number2: 35\n"
     ]
    },
    {
     "name": "stdout",
     "output_type": "stream",
     "text": [
      "the numbers are diffrent \n"
     ]
    }
   ],
   "source": [
    "number1=int(input(\"enter number1:\"))\n",
    "number2=int(input(\"enter number2:\"))\n",
    "\n",
    "if number1!=number2:\n",
    "    print(\"the numbers are diffrent \")\n",
    "\n",
    "else:\n",
    "    print(\"the nubers are the same\")\n",
    "\n"
   ]
  },
  {
   "cell_type": "code",
   "execution_count": null,
   "id": "5114c345-e800-4acf-a4a5-3768f6d17a3e",
   "metadata": {},
   "outputs": [],
   "source": []
  }
 ],
 "metadata": {
  "kernelspec": {
   "display_name": "Python 3 (ipykernel)",
   "language": "python",
   "name": "python3"
  },
  "language_info": {
   "codemirror_mode": {
    "name": "ipython",
    "version": 3
   },
   "file_extension": ".py",
   "mimetype": "text/x-python",
   "name": "python",
   "nbconvert_exporter": "python",
   "pygments_lexer": "ipython3",
   "version": "3.13.5"
  }
 },
 "nbformat": 4,
 "nbformat_minor": 5
}
