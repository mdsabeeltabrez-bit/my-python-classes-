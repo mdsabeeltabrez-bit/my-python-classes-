{
 "cells": [
  {
   "cell_type": "code",
   "execution_count": null,
   "id": "dbfb6d07-4dce-4ef8-b036-cf617050c83a",
   "metadata": {},
   "outputs": [],
   "source": [
    "eco=int(input(\"enter economics marks: \"))\n",
    "acc=int(input(\"enter accounting marks: \"))\n",
    "business=int(input(\"enter business marks: \"))\n",
    "em=int(input(\"enter em marks: \"))\n",
    "\n",
    "percentage=(eco+acc+business+em)/400*100\n"
   ]
  }
 ],
 "metadata": {
  "kernelspec": {
   "display_name": "Python 3 (ipykernel)",
   "language": "python",
   "name": "python3"
  },
  "language_info": {
   "codemirror_mode": {
    "name": "ipython",
    "version": 3
   },
   "file_extension": ".py",
   "mimetype": "text/x-python",
   "name": "python",
   "nbconvert_exporter": "python",
   "pygments_lexer": "ipython3",
   "version": "3.13.5"
  }
 },
 "nbformat": 4,
 "nbformat_minor": 5
}
