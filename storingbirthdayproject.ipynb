{
 "cells": [
  {
   "cell_type": "code",
   "execution_count": 3,
   "id": "cc1b20ab-c56c-4319-afb3-1554406203c0",
   "metadata": {},
   "outputs": [
    {
     "name": "stdin",
     "output_type": "stream",
     "text": [
      "enter sabeels birthday:  30 may\n"
     ]
    },
    {
     "name": "stdout",
     "output_type": "stream",
     "text": [
      "sabeels birthday is:  30 may\n"
     ]
    }
   ],
   "source": [
    "my_birthday=input(\"enter sabeels birthday: \")\n",
    "print(\"sabeels birthday is: \",my_birthday )"
   ]
  },
  {
   "cell_type": "code",
   "execution_count": 2,
   "id": "84e93fad-0ed6-42f5-8511-7cf406eea21f",
   "metadata": {},
   "outputs": [
    {
     "name": "stdin",
     "output_type": "stream",
     "text": [
      " enter faizans birthday:  20 feb \n"
     ]
    },
    {
     "name": "stdout",
     "output_type": "stream",
     "text": [
      "faizans birthday is:  20 feb \n"
     ]
    }
   ],
   "source": [
    "friend_2=input(\" enter faizans birthday: \")\n",
    "print(\"faizans birthday is: \",friend_2 )"
   ]
  },
  {
   "cell_type": "raw",
   "id": "9c07223a-b97b-426f-a83a-61b301d9dd1e",
   "metadata": {},
   "source": [
    "friend_3=input(\"enter samis birthday: \")\n",
    "print(\"samis birthday is: \", friend_3 )"
   ]
  },
  {
   "cell_type": "code",
   "execution_count": 6,
   "id": "8074d989-67de-48bf-ab6f-4f4961f39a2e",
   "metadata": {},
   "outputs": [
    {
     "name": "stdin",
     "output_type": "stream",
     "text": [
      " enter alis birthday:  30 dec\n"
     ]
    },
    {
     "name": "stdout",
     "output_type": "stream",
     "text": [
      "alis birthday is:  30 dec\n"
     ]
    }
   ],
   "source": [
    "friend_4=input(\" enter alis birthday: \")\n",
    "print(\"alis birthday is: \", friend_4 )"
   ]
  },
  {
   "cell_type": "code",
   "execution_count": 8,
   "id": "d207d4f8-b42c-4f81-a43d-3c31fe6001be",
   "metadata": {},
   "outputs": [
    {
     "name": "stdin",
     "output_type": "stream",
     "text": [
      " enter ahmeds birthday:  16 dec\n"
     ]
    },
    {
     "name": "stdout",
     "output_type": "stream",
     "text": [
      " ahmeds birthday is: 16 dec\n"
     ]
    }
   ],
   "source": [
    "friend_5=input(\" enter ahmeds birthday: \")\n",
    "print(\" ahmeds birthday is:\", friend_5 )"
   ]
  },
  {
   "cell_type": "code",
   "execution_count": null,
   "id": "4edf6f78-5b4c-4a8d-aae4-59f1632d0348",
   "metadata": {},
   "outputs": [],
   "source": []
  }
 ],
 "metadata": {
  "kernelspec": {
   "display_name": "Python 3 (ipykernel)",
   "language": "python",
   "name": "python3"
  },
  "language_info": {
   "codemirror_mode": {
    "name": "ipython",
    "version": 3
   },
   "file_extension": ".py",
   "mimetype": "text/x-python",
   "name": "python",
   "nbconvert_exporter": "python",
   "pygments_lexer": "ipython3",
   "version": "3.13.5"
  }
 },
 "nbformat": 4,
 "nbformat_minor": 5
}
