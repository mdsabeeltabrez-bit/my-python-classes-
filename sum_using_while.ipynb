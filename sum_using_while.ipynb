{
 "cells": [
  {
   "cell_type": "code",
   "execution_count": null,
   "id": "ebdc2a5f-98ca-4a8d-932c-ec9732e462e3",
   "metadata": {},
   "outputs": [],
   "source": [
    "counter= 0\n",
    "sum=0 \n",
    "while counter <5 :\n",
    "    num=int(input(\"enter some number\"))\n",
    "    sum=sum+num\n",
    "    print(\" sum at this step:\", sum)\n",
    "    counter=counter+1\n"
   ]
  },
  {
   "cell_type": "code",
   "execution_count": null,
   "id": "cf4d1a57-de47-46e8-a306-6e8151f262ef",
   "metadata": {},
   "outputs": [],
   "source": []
  }
 ],
 "metadata": {
  "kernelspec": {
   "display_name": "Python 3 (ipykernel)",
   "language": "python",
   "name": "python3"
  },
  "language_info": {
   "codemirror_mode": {
    "name": "ipython",
    "version": 3
   },
   "file_extension": ".py",
   "mimetype": "text/x-python",
   "name": "python",
   "nbconvert_exporter": "python",
   "pygments_lexer": "ipython3",
   "version": "3.13.5"
  }
 },
 "nbformat": 4,
 "nbformat_minor": 5
}
