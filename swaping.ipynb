{
 "cells": [
  {
   "cell_type": "code",
   "execution_count": 1,
   "id": "22c87f8c-f08a-4fda-9176-9532a32097a5",
   "metadata": {},
   "outputs": [
    {
     "name": "stdout",
     "output_type": "stream",
     "text": [
      "before swapping:\n",
      "a= 10 b= 20 c= 30\n"
     ]
    }
   ],
   "source": [
    "a=10\n",
    "b=20\n",
    "c=30\n",
    "print(\"before swapping:\")\n",
    "print(\"a=\",a, \"b=\",b, \"c=\",c)"
   ]
  },
  {
   "cell_type": "code",
   "execution_count": null,
   "id": "1ef9244c-1d1e-4c2b-9dc8-6fb5c42a3c72",
   "metadata": {},
   "outputs": [],
   "source": []
  }
 ],
 "metadata": {
  "kernelspec": {
   "display_name": "Python 3 (ipykernel)",
   "language": "python",
   "name": "python3"
  },
  "language_info": {
   "codemirror_mode": {
    "name": "ipython",
    "version": 3
   },
   "file_extension": ".py",
   "mimetype": "text/x-python",
   "name": "python",
   "nbconvert_exporter": "python",
   "pygments_lexer": "ipython3",
   "version": "3.13.5"
  }
 },
 "nbformat": 4,
 "nbformat_minor": 5
}
