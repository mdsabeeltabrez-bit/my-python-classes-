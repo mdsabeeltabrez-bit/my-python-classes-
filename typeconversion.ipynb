{
 "cells": [
  {
   "cell_type": "code",
   "execution_count": 1,
   "id": "a53d1c0d-52b7-44c6-94b1-df197a779f3b",
   "metadata": {},
   "outputs": [
    {
     "name": "stdin",
     "output_type": "stream",
     "text": [
      "enter num1 5\n"
     ]
    }
   ],
   "source": [
    "num1=input(\"enter num1\")\n",
    "num1= int(num1)"
   ]
  },
  {
   "cell_type": "code",
   "execution_count": 2,
   "id": "e82369e6-6083-4440-b157-893368cdf6dd",
   "metadata": {},
   "outputs": [
    {
     "name": "stdin",
     "output_type": "stream",
     "text": [
      "enter num2 5\n"
     ]
    }
   ],
   "source": [
    "num2=input(\"enter num2\")\n",
    "num2= int(num2)"
   ]
  },
  {
   "cell_type": "code",
   "execution_count": 3,
   "id": "ac88d1af-2e6e-4cfa-aad0-4c545a2c5ab3",
   "metadata": {},
   "outputs": [
    {
     "name": "stdout",
     "output_type": "stream",
     "text": [
      "10\n"
     ]
    }
   ],
   "source": [
    "sum1=num1+num2\n",
    "print(sum1)"
   ]
  },
  {
   "cell_type": "code",
   "execution_count": null,
   "id": "7f86e552-76dc-4449-8a76-923efc19327b",
   "metadata": {},
   "outputs": [],
   "source": []
  }
 ],
 "metadata": {
  "kernelspec": {
   "display_name": "Python 3 (ipykernel)",
   "language": "python",
   "name": "python3"
  },
  "language_info": {
   "codemirror_mode": {
    "name": "ipython",
    "version": 3
   },
   "file_extension": ".py",
   "mimetype": "text/x-python",
   "name": "python",
   "nbconvert_exporter": "python",
   "pygments_lexer": "ipython3",
   "version": "3.13.5"
  }
 },
 "nbformat": 4,
 "nbformat_minor": 5
}
